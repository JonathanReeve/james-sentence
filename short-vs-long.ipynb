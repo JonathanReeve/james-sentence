{
 "cells": [
  {
   "cell_type": "code",
   "execution_count": 1,
   "metadata": {
    "autoscroll": "json-false",
    "collapsed": false,
    "ein.tags": [
     "worksheet-0"
    ],
    "slideshow": {
     "slide_type": "-"
    }
   },
   "outputs": [],
   "source": [
    "import pandas as pd\n",
    "import numpy as np\n",
    "from matplotlib import pyplot as plt\n",
    "import spacy\n",
    "import textacy\n",
    "from glob import glob\n",
    "from sklearn.feature_extraction.text import TfidfVectorizer\n",
    "%matplotlib inline\n",
    "plt.rcParams['figure.figsize'] = (20,8)\n",
    "plt.style.use('ggplot')"
   ]
  },
  {
   "cell_type": "code",
   "execution_count": 2,
   "metadata": {
    "autoscroll": "json-false",
    "collapsed": false,
    "ein.tags": [
     "worksheet-0"
    ],
    "slideshow": {
     "slide_type": "-"
    }
   },
   "outputs": [],
   "source": [
    "nlp = spacy.load('en')"
   ]
  },
  {
   "cell_type": "code",
   "execution_count": 3,
   "metadata": {
    "autoscroll": "json-false",
    "collapsed": false,
    "ein.tags": [
     "worksheet-0"
    ],
    "slideshow": {
     "slide_type": "-"
    }
   },
   "outputs": [],
   "source": [
    "filenames = glob('text/*')\n",
    "texts = [open(text).read() for text in filenames]\n",
    "metadata = [{'filename': fn} for fn in filenames]"
   ]
  },
  {
   "cell_type": "code",
   "execution_count": 4,
   "metadata": {
    "autoscroll": "json-false",
    "collapsed": false,
    "ein.tags": [
     "worksheet-0"
    ],
    "slideshow": {
     "slide_type": "-"
    }
   },
   "outputs": [],
   "source": [
    "james = textacy.Corpus('en', texts, metadatas=metadata)"
   ]
  },
  {
   "cell_type": "code",
   "execution_count": 5,
   "metadata": {
    "autoscroll": "json-false",
    "collapsed": false,
    "ein.tags": [
     "worksheet-0"
    ],
    "slideshow": {
     "slide_type": "-"
    }
   },
   "outputs": [],
   "source": [
    "allSents = []\n",
    "for doc in james:\n",
    "    for sent in doc.sents:\n",
    "        allSents.append((sent, len(sent), doc.metadata['filename']))"
   ]
  },
  {
   "cell_type": "code",
   "execution_count": 9,
   "metadata": {
    "autoscroll": "json-false",
    "collapsed": false,
    "ein.tags": [
     "worksheet-0"
    ],
    "slideshow": {
     "slide_type": "-"
    }
   },
   "outputs": [],
   "source": [
    "def splitSents(n):\n",
    "    a, b = [], []\n",
    "    for sent in allSents:\n",
    "        if sent[1] < n:\n",
    "            a.append(sent)\n",
    "        if sent[1] >= n: \n",
    "            b.append(sent)\n",
    "    return a, b\n",
    "\n",
    "def countWords(sentList):\n",
    "    return sum([sent[1] for sent in sentList])    "
   ]
  },
  {
   "cell_type": "code",
   "execution_count": 10,
   "metadata": {
    "autoscroll": "json-false",
    "collapsed": false,
    "ein.tags": [
     "worksheet-0"
    ],
    "slideshow": {
     "slide_type": "-"
    }
   },
   "outputs": [],
   "source": [
    "short, long = splitSents(34)"
   ]
  },
  {
   "cell_type": "code",
   "execution_count": 11,
   "metadata": {
    "autoscroll": "json-false",
    "collapsed": false,
    "ein.tags": [
     "worksheet-0"
    ],
    "slideshow": {
     "slide_type": "-"
    }
   },
   "outputs": [
    {
     "data": {
      "text/plain": [
       "(1711915, 1646234)"
      ]
     },
     "execution_count": 11,
     "metadata": {},
     "output_type": "execute_result"
    }
   ],
   "source": [
    "countWords(short), countWords(long)"
   ]
  },
  {
   "cell_type": "code",
   "execution_count": 12,
   "metadata": {
    "autoscroll": "json-false",
    "collapsed": false,
    "ein.tags": [
     "worksheet-0"
    ],
    "slideshow": {
     "slide_type": "-"
    }
   },
   "outputs": [],
   "source": [
    "def makeSoup(sentList):\n",
    "    justSents = [sent[0] for sent in sentList]\n",
    "    stringSoup = \" \".join([sent.string for sent in justSents])\n",
    "    return stringSoup"
   ]
  },
  {
   "cell_type": "code",
   "execution_count": 13,
   "metadata": {
    "autoscroll": "json-false",
    "collapsed": false,
    "ein.tags": [
     "worksheet-0"
    ],
    "slideshow": {
     "slide_type": "-"
    }
   },
   "outputs": [],
   "source": [
    "shortSoup = makeSoup(short)\n",
    "longSoup = makeSoup(long)"
   ]
  },
  {
   "cell_type": "code",
   "execution_count": 14,
   "metadata": {
    "autoscroll": "json-false",
    "collapsed": false,
    "ein.tags": [
     "worksheet-0"
    ],
    "slideshow": {
     "slide_type": "-"
    }
   },
   "outputs": [],
   "source": [
    "shortDoc = textacy.Doc(shortSoup)\n",
    "longDoc = textacy.Doc(longSoup)"
   ]
  },
  {
   "cell_type": "code",
   "execution_count": 17,
   "metadata": {
    "autoscroll": "json-false",
    "collapsed": false,
    "ein.tags": [
     "worksheet-0"
    ],
    "slideshow": {
     "slide_type": "-"
    }
   },
   "outputs": [],
   "source": [
    "def bag(doc):\n",
    "    return pd.Series(doc.to_bag_of_terms(lemmatize=True, as_strings=True, weighting='freq', filter_punct=True))"
   ]
  },
  {
   "cell_type": "code",
   "execution_count": 18,
   "metadata": {
    "autoscroll": "json-false",
    "collapsed": false,
    "ein.tags": [
     "worksheet-0"
    ],
    "slideshow": {
     "slide_type": "-"
    }
   },
   "outputs": [],
   "source": [
    "df = pd.DataFrame([bag(shortDoc), bag(longDoc)], index=['short', 'long'])"
   ]
  },
  {
   "cell_type": "code",
   "execution_count": 20,
   "metadata": {
    "autoscroll": "json-false",
    "collapsed": false,
    "ein.tags": [
     "worksheet-0"
    ],
    "slideshow": {
     "slide_type": "-"
    }
   },
   "outputs": [],
   "source": [
    "df = df.fillna(0)"
   ]
  },
  {
   "cell_type": "code",
   "execution_count": 22,
   "metadata": {
    "autoscroll": "json-false",
    "collapsed": false,
    "ein.tags": [
     "worksheet-0"
    ],
    "slideshow": {
     "slide_type": "-"
    }
   },
   "outputs": [
    {
     "data": {
      "text/plain": [
       "'s         -0.001270\n",
       "           -0.000883\n",
       "hour       -0.000480\n",
       "hyacinth   -0.000451\n",
       "time       -0.000396\n",
       "verena     -0.000395\n",
       "place      -0.000377\n",
       "sense      -0.000371\n",
       "day        -0.000344\n",
       "present    -0.000326\n",
       "fact       -0.000316\n",
       "young      -0.000307\n",
       "air        -0.000293\n",
       "person     -0.000266\n",
       "small      -0.000264\n",
       "olive      -0.000258\n",
       "feel       -0.000253\n",
       "occasion   -0.000251\n",
       "manner     -0.000251\n",
       "find       -0.000246\n",
       "high       -0.000240\n",
       "room       -0.000226\n",
       "face       -0.000222\n",
       "one        -0.000216\n",
       "evening    -0.000216\n",
       "take       -0.000213\n",
       "lady       -0.000211\n",
       "new        -0.000206\n",
       "first      -0.000199\n",
       "effect     -0.000194\n",
       "              ...   \n",
       "n’t         0.000377\n",
       "ralph       0.000412\n",
       "dear        0.000446\n",
       "come        0.000452\n",
       "look        0.000457\n",
       "have        0.000512\n",
       "rowland     0.000517\n",
       "go          0.000546\n",
       "’re         0.000577\n",
       "mr.         0.000585\n",
       "like        0.000588\n",
       "good        0.000597\n",
       "yes         0.000619\n",
       "shall       0.000648\n",
       "ah          0.000680\n",
       "isabel      0.000722\n",
       "want        0.000725\n",
       "’s          0.000765\n",
       "tell        0.000769\n",
       "mean        0.000823\n",
       "ask         0.000844\n",
       "newman      0.000917\n",
       "will        0.001048\n",
       "oh          0.001051\n",
       "know        0.001208\n",
       "think       0.001310\n",
       "’           0.001337\n",
       "be          0.002269\n",
       "say         0.002678\n",
       "not         0.003387\n",
       "dtype: float64"
      ]
     },
     "execution_count": 22,
     "metadata": {},
     "output_type": "execute_result"
    }
   ],
   "source": [
    "(df.loc['short'] - df.loc['long']).sort_values()"
   ]
  },
  {
   "cell_type": "markdown",
   "metadata": {
    "ein.tags": [
     "worksheet-0"
    ],
    "slideshow": {
     "slide_type": "-"
    }
   },
   "source": [
    "# Use Scikit-Learn Instead"
   ]
  },
  {
   "cell_type": "code",
   "execution_count": 148,
   "metadata": {
    "autoscroll": "json-false",
    "collapsed": false,
    "ein.tags": [
     "worksheet-0"
    ],
    "slideshow": {
     "slide_type": "-"
    }
   },
   "outputs": [],
   "source": [
    "# Let's try this a different way.\n",
    "shortSoup = makeSoup(short)\n",
    "longSoup = makeSoup(long)"
   ]
  },
  {
   "cell_type": "code",
   "execution_count": 149,
   "metadata": {
    "autoscroll": "json-false",
    "collapsed": false,
    "ein.tags": [
     "worksheet-0"
    ],
    "slideshow": {
     "slide_type": "-"
    }
   },
   "outputs": [],
   "source": [
    "docs = [shortSoup, longSoup]"
   ]
  },
  {
   "cell_type": "code",
   "execution_count": 170,
   "metadata": {
    "autoscroll": "json-false",
    "collapsed": false,
    "ein.tags": [
     "worksheet-0"
    ],
    "slideshow": {
     "slide_type": "-"
    }
   },
   "outputs": [
    {
     "data": {
      "text/plain": [
       "the       -0.129872\nof        -0.112184\nhad       -0.053067\nand       -0.046326\nin        -0.042988\nwhich     -0.034696\nas        -0.026812\nwas       -0.016450\nby        -0.014569\nhis       -0.013315\ntheir     -0.011851\nfrom      -0.010602\nor        -0.008986\nmight     -0.007952\nwho       -0.007788\nwith      -0.006969\nbeen      -0.006604\nher       -0.006558\nits       -0.005766\nthat      -0.005126\nan        -0.005100\nthough    -0.005060\nherself   -0.004825\neven      -0.004766\nsense     -0.003743\non        -0.003727\nhaving    -0.003625\nhimself   -0.003499\nair       -0.003144\nwhile     -0.002904\n             ...   \nwell       0.017572\nbe         0.018325\nnot        0.019449\nsee        0.019449\nthink      0.019785\noh         0.019826\nve         0.020195\nwill       0.020709\nto         0.021445\nhas        0.022112\nwe         0.023487\nhave       0.023658\nvery       0.023785\ncan        0.024530\nare        0.024942\nthen       0.026887\nyour       0.028029\nknow       0.028298\nmy         0.034375\ndon        0.037792\ndo         0.038348\nwhat       0.041792\nbut        0.043515\nis         0.043663\nhe         0.048516\nsaid       0.051328\nshe        0.059200\nme         0.059200\nit         0.095314\nyou        0.223413\ndtype: float64"
      ]
     },
     "execution_count": 170,
     "metadata": {},
     "output_type": "execute_result"
    }
   ],
   "source": [
    "tfidf = TfidfVectorizer(use_idf=False)\n",
    "docTermMatrix = tfidf.fit_transform(docs)\n",
    "docTermMatrixDense = docTermMatrix.todense()\n",
    "labels = tfidf.get_feature_names()\n",
    "df = pd.DataFrame(docTermMatrixDense, columns=labels)\n",
    "# Short minus long\n",
    "(df.loc[0] - df.loc[1]).sort_values()"
   ]
  },
  {
   "cell_type": "code",
   "execution_count": 171,
   "metadata": {
    "autoscroll": "json-false",
    "collapsed": false,
    "ein.tags": [
     "worksheet-0"
    ],
    "slideshow": {
     "slide_type": "-"
    }
   },
   "outputs": [
    {
     "data": {
      "text/plain": [
       "the       -0.129872\nof        -0.112183\nhad       -0.053067\nand       -0.046325\nin        -0.042988\nwhich     -0.034696\nas        -0.026812\nwas       -0.016450\nby        -0.014569\nhis       -0.013315\ntheir     -0.011851\nfrom      -0.010602\nor        -0.008986\nmight     -0.007952\nwho       -0.007788\nwith      -0.006969\nbeen      -0.006604\nher       -0.006558\nits       -0.005766\nthat      -0.005126\nan        -0.005100\nthough    -0.005060\nherself   -0.004825\neven      -0.004766\nsense     -0.003743\non        -0.003726\nhaving    -0.003625\nhimself   -0.003499\nair       -0.003144\nwhile     -0.002904\n             ...   \nwell       0.017572\nbe         0.018325\nnot        0.019449\nsee        0.019449\nthink      0.019785\noh         0.019826\nve         0.020195\nwill       0.020709\nto         0.021445\nhas        0.022112\nwe         0.023487\nhave       0.023659\nvery       0.023785\ncan        0.024530\nare        0.024942\nthen       0.026887\nyour       0.028029\nknow       0.028298\nmy         0.034375\ndon        0.037792\ndo         0.038348\nwhat       0.041792\nbut        0.043515\nis         0.043663\nhe         0.048516\nsaid       0.051328\nshe        0.059200\nme         0.059200\nit         0.095314\nyou        0.223413\ndtype: float64"
      ]
     },
     "execution_count": 171,
     "metadata": {},
     "output_type": "execute_result"
    }
   ],
   "source": [
    "# Let's try it again with Tf-IDF\n",
    "tfidf = TfidfVectorizer(use_idf=True)\n",
    "docTermMatrix = tfidf.fit_transform(docs)\n",
    "docTermMatrixDense = docTermMatrix.todense()\n",
    "labels = tfidf.get_feature_names()\n",
    "df = pd.DataFrame(docTermMatrixDense, columns=labels)\n",
    "# Short minus long\n",
    "(df.loc[0] - df.loc[1]).sort_values()"
   ]
  }
 ],
 "metadata": {
  "kernelspec": {
   "display_name": "Python 3",
   "name": "python3"
  },
  "language_info": {
   "codemirror_mode": {
    "name": "ipython",
    "version": 3
   },
   "file_extension": ".py",
   "mimetype": "text/x-python",
   "name": "python",
   "nbconvert_exporter": "python",
   "pygments_lexer": "ipython3",
   "version": "3.6.1"
  },
  "name": "short-vs-long.ipynb"
 },
 "nbformat": 4,
 "nbformat_minor": 2
}
